{
 "metadata": {
  "language": "Julia",
  "name": ""
 },
 "nbformat": 3,
 "nbformat_minor": 0,
 "worksheets": [
  {
   "cells": [
    {
     "cell_type": "markdown",
     "metadata": {},
     "source": [
      "#Problem 2a"
     ]
    },
    {
     "cell_type": "code",
     "collapsed": false,
     "input": [
      "srand(42);\n",
      "N = 10000;\n",
      "true_mean = 10000.;\n",
      "y = true_mean+randn(N);"
     ],
     "language": "python",
     "metadata": {},
     "outputs": []
    },
    {
     "cell_type": "code",
     "collapsed": false,
     "input": [
      "sample_mean = mean(y);\n",
      "sample_var = var(y); \n",
      "(sample_mean , sample_var)"
     ],
     "language": "python",
     "metadata": {},
     "outputs": [
      {
       "metadata": {},
       "output_type": "pyout",
       "prompt_number": 1,
       "text": [
        "(9999.998011659798,1.0199227833780644)"
       ]
      }
     ],
     "prompt_number": 1
    },
    {
     "cell_type": "markdown",
     "metadata": {},
     "source": [
      "#Problem 2b"
     ]
    },
    {
     "cell_type": "code",
     "collapsed": false,
     "input": [
      "y32bit = convert(Array{Float32,1},y);\n",
      "y16bit = convert(Array{Float16,1},y);"
     ],
     "language": "python",
     "metadata": {},
     "outputs": [],
     "prompt_number": 1
    },
    {
     "cell_type": "code",
     "collapsed": false,
     "input": [
      "sample_mean_32 = mean(y32bit);\n",
      "sample_var_32 = var(y32bit); \n",
      "println(\"32 bit: \", \"(\", sample_mean_32 , \",\", sample_var_32, \")\" );"
     ],
     "language": "python",
     "metadata": {},
     "outputs": [
      {
       "output_type": "stream",
       "stream": "stdout",
       "text": [
        "32 bit: ("
       ]
      },
      {
       "output_type": "stream",
       "stream": "stdout",
       "text": [
        "9999.998,1.0199206)\n"
       ]
      }
     ],
     "prompt_number": 6
    },
    {
     "cell_type": "code",
     "collapsed": false,
     "input": [
      "sample_mean_16 = mean(y16bit);\n",
      "sample_var_16 = var(y16bit); \n",
      "println(\"16 bit: \", \"(\", sample_mean_16 , \",\", sample_var_16, \")\" );"
     ],
     "language": "python",
     "metadata": {},
     "outputs": [
      {
       "output_type": "stream",
       "stream": "stdout",
       "text": [
        "16 bit: ("
       ]
      },
      {
       "output_type": "stream",
       "stream": "stdout",
       "text": [
        "9995.983,16.001316)\n"
       ]
      }
     ],
     "prompt_number": 6
    },
    {
     "cell_type": "markdown",
     "metadata": {},
     "source": [
      "#Problem 2c and 2d"
     ]
    },
    {
     "cell_type": "code",
     "collapsed": false,
     "input": [
      "srand(42);\n",
      "N = 100000;\n",
      "true_mean = 10000.;\n",
      "y = true_mean+randn(N);\n",
      "\n",
      "println(\"For N=\",N);\n",
      "\n",
      "y32bit = convert(Array{Float32,1},y);\n",
      "y16bit = convert(Array{Float16,1},y);\n",
      "\n",
      "sample_mean_32 = mean(y32bit);\n",
      "sample_var_32 = var(y32bit); \n",
      "println(\"32 bit: \", \"(\", sample_mean_32 , \",\", sample_var_32, \")\" );\n",
      "\n",
      "sample_mean_16 = mean(y16bit);\n",
      "sample_var_16 = var(y16bit); \n",
      "println(\"16 bit: \", \"(\", sample_mean_16 , \",\", sample_var_16, \")\" );"
     ],
     "language": "python",
     "metadata": {},
     "outputs": [
      {
       "output_type": "stream",
       "stream": "stdout",
       "text": [
        "For N=100000"
       ]
      },
      {
       "output_type": "stream",
       "stream": "stdout",
       "text": [
        "\n",
        "32 bit: (10000.003,1.0088867)\n",
        "16 bit: (9996.01,16.000065)\n"
       ]
      }
     ],
     "prompt_number": 6
    },
    {
     "cell_type": "code",
     "collapsed": false,
     "input": [
      "srand(42);\n",
      "N = 10000;\n",
      "true_mean = 100000.;\n",
      "y = true_mean+randn(N);\n",
      "\n",
      "println(\"For true_mean=\",true_mean);\n",
      "\n",
      "y32bit = convert(Array{Float32,1},y);\n",
      "y16bit = convert(Array{Float16,1},y);\n",
      "\n",
      "sample_mean_32 = mean(y32bit);\n",
      "sample_var_32 = var(y32bit); \n",
      "println(\"32 bit: \", \"(\", sample_mean_32 , \",\", sample_var_32, \")\" );\n",
      "\n",
      "sample_mean_16 = mean(y16bit);\n",
      "sample_var_16 = var(y16bit); \n",
      "println(\"16 bit: \", \"(\", sample_mean_16 , \",\", sample_var_16, \")\" );"
     ],
     "language": "python",
     "metadata": {},
     "outputs": [
      {
       "output_type": "stream",
       "stream": "stdout",
       "text": [
        "For true_mean=1"
       ]
      },
      {
       "output_type": "stream",
       "stream": "stdout",
       "text": [
        "00000.0\n",
        "32 bit: (100000.0,1.0200287)\n",
        "16 bit: (Inf,NaN)\n"
       ]
      }
     ],
     "prompt_number": 6
    },
    {
     "cell_type": "markdown",
     "metadata": {},
     "source": [
      "#Problem 3"
     ]
    },
    {
     "cell_type": "code",
     "collapsed": false,
     "input": [
      "### EXAMPLE ###\n",
      "\n",
      "function mean_demo(y::Array)  # the syntax ::Array specifies that this function can only be applied if argument is an array.\n",
      "   n = length(y);         # get the number of elements in the array y\n",
      "   sum = zero(y[1]);  # using zero(y[1]) makes sum have the same data type as y[1]\n",
      "   for i in 1:n              # In Julia and Fortran, arrays start a 1, not 0 (like in C arrays and Python lists)\n",
      "      sum = sum + y[i];\n",
      "   end;                 # semi-colons are unnecessary, but can be useful when pasting code interactively\n",
      "   return sum/n;  # return isn\u2019t necessary since functions return the last value by default\n",
      "end\n",
      "\n",
      "mean_demo(y::Array) = sum(y)/length(y);"
     ],
     "language": "python",
     "metadata": {},
     "outputs": [],
     "prompt_number": 6
    },
    {
     "cell_type": "markdown",
     "metadata": {},
     "source": [
      "#Problem 3a"
     ]
    },
    {
     "cell_type": "code",
     "collapsed": false,
     "input": [
      "function variance_onepass(y::Array)\n",
      "    n = length(y);\n",
      "    sum1 = zero(y[1]);\n",
      "    sum2 = zero(y[1]);\n",
      "    for i in 1:n\n",
      "        sum1 = sum1 + y[i];\n",
      "        sum2 = sum2 + y[i]^2;\n",
      "    end;\n",
      "    return 1/(n-1) * (sum2 - sum1*sum1/n);\n",
      "end"
     ],
     "language": "python",
     "metadata": {},
     "outputs": [
      {
       "metadata": {},
       "output_type": "pyout",
       "prompt_number": 16,
       "text": [
        "variance_onepass (generic function with 1 method)"
       ]
      }
     ],
     "prompt_number": 16
    },
    {
     "cell_type": "markdown",
     "metadata": {},
     "source": [
      "#Problem 3b"
     ]
    },
    {
     "cell_type": "code",
     "collapsed": false,
     "input": [
      "function variance_twopass(y::Array)\n",
      "    n = length(y);\n",
      "    sum = zero(y[1]);\n",
      "    mean = zero(y[1]);\n",
      "    for i in 1:n\n",
      "        mean = mean + y[i];\n",
      "    end;\n",
      "    \n",
      "    mean = mean/n;\n",
      "    \n",
      "    for j in 1:n\n",
      "        sum = sum + (y[j]-mean)^2\n",
      "    end;\n",
      "    \n",
      "    return 1/(n-1)*sum;\n",
      "end"
     ],
     "language": "python",
     "metadata": {},
     "outputs": [
      {
       "metadata": {},
       "output_type": "pyout",
       "prompt_number": 17,
       "text": [
        "variance_twopass (generic function with 1 method)"
       ]
      }
     ],
     "prompt_number": 17
    },
    {
     "cell_type": "markdown",
     "metadata": {},
     "source": [
      "#Problem 3c"
     ]
    },
    {
     "cell_type": "code",
     "collapsed": false,
     "input": [
      "srand(42);\n",
      "N = 100000;\n",
      "true_mean = 100000.;\n",
      "y = true_mean+randn(N);\n",
      "\n",
      "println(\"One pass to built in var difference: \", variance_onepass(y)-var(y) );\n",
      "println(\"Two pass to built in var difference: \", variance_twopass(y)-var(y) );"
     ],
     "language": "python",
     "metadata": {},
     "outputs": [
      {
       "output_type": "stream",
       "stream": "stdout",
       "text": [
        "One pass to built in var difference: 0."
       ]
      },
      {
       "output_type": "stream",
       "stream": "stdout",
       "text": [
        "00021294250564274364\n",
        "Two pass to built in var difference: -6.439293542825908e-15\n"
       ]
      }
     ],
     "prompt_number": 18
    },
    {
     "cell_type": "code",
     "collapsed": false,
     "input": [
      "function var_online(y::Array)\n",
      "  n = length(y);\n",
      "  sum1 = zero(y[1]);\n",
      "  mean = zero(y[1]);\n",
      "  M2 = zero(y[1]);\n",
      "  for i in 1:n\n",
      "\t  diff_by_i = (y[i]-mean)/i;\n",
      "\t  mean = mean +diff_by_i;\n",
      "\t  M2 = M2 + (i-1)*diff_by_i*diff_by_i+(y[i]-mean)*(y[i]-mean); \n",
      "  end;  \n",
      "  variance = M2/(n-1);\n",
      "end\n",
      "\n",
      "println(\"One pass (online) to built in var difference: \", var_online(y)-var(y) )"
     ],
     "language": "python",
     "metadata": {},
     "outputs": [
      {
       "output_type": "stream",
       "stream": "stdout",
       "text": [
        "One pass (online) to built in var difference: 1"
       ]
      },
      {
       "output_type": "stream",
       "stream": "stdout",
       "text": [
        ".6566747973456586e-12\n"
       ]
      }
     ],
     "prompt_number": 19
    },
    {
     "cell_type": "markdown",
     "metadata": {},
     "source": [
      "#Problem 4"
     ]
    },
    {
     "cell_type": "code",
     "collapsed": false,
     "input": [
      "srand(42);\n",
      "N = 100;\n",
      "z = zeros(N);\n",
      "sigma = 2.*ones(N);\n",
      "y = z+sigma.*randn(N);"
     ],
     "language": "python",
     "metadata": {},
     "outputs": [],
     "prompt_number": 30
    },
    {
     "cell_type": "code",
     "collapsed": false,
     "input": [
      "normal_pdf(y, sigma, z) = exp( -( y-z )^2 / ( 2. * sigma.^2 ) / sqrt( 2.*pi*sigma^2 ) )"
     ],
     "language": "python",
     "metadata": {},
     "outputs": [
      {
       "metadata": {},
       "output_type": "pyout",
       "prompt_number": 31,
       "text": [
        "normal_pdf (generic function with 1 method)"
       ]
      }
     ],
     "prompt_number": 31
    },
    {
     "cell_type": "code",
     "collapsed": false,
     "input": [
      "function likelihood( y::Array, sigma::Array, z::Array )\n",
      "    n = length(y);\n",
      "    assert(length(sigma)==n);\n",
      "    assert(length(z)==n);\n",
      "    prod = one(y[1]);\n",
      "    for i in 1:n\n",
      "        prod = prod * normal_pdf(y[i],sigma[i],z[i]);\n",
      "    end;\n",
      "    return prod;\n",
      "end "
     ],
     "language": "python",
     "metadata": {},
     "outputs": [
      {
       "metadata": {},
       "output_type": "pyout",
       "prompt_number": 32,
       "text": [
        "likelihood (generic function with 1 method)"
       ]
      }
     ],
     "prompt_number": 32
    },
    {
     "cell_type": "code",
     "collapsed": false,
     "input": [
      "likelihood(y,sigma,z)"
     ],
     "language": "python",
     "metadata": {},
     "outputs": [
      {
       "metadata": {},
       "output_type": "pyout",
       "prompt_number": 33,
       "text": [
        "1.456779314038924e-5"
       ]
      }
     ],
     "prompt_number": 33
    },
    {
     "cell_type": "code",
     "collapsed": false,
     "input": [
      "srand(42);\n",
      "N = 600;\n",
      "z = zeros(N);\n",
      "sigma = 2.*ones(N);\n",
      "y = z+sigma.*randn(N);\n",
      "\n",
      "likelihood(y,sigma,z)"
     ],
     "language": "python",
     "metadata": {},
     "outputs": [
      {
       "metadata": {},
       "output_type": "pyout",
       "prompt_number": 37,
       "text": [
        "6.811384089097359e-29"
       ]
      }
     ],
     "prompt_number": 37
    },
    {
     "cell_type": "code",
     "collapsed": false,
     "input": [
      "function log_likelihood( y::Array, sigma::Array, z::Array )\n",
      "    n = length(y);\n",
      "    assert(length(sigma)==n);\n",
      "    assert(length(z)==n);\n",
      "    sum = zero(y[1]);\n",
      "    for i in 1:n\n",
      "        sum = sum + log( normal_pdf( y[i],sigma[i],z[i] ) );\n",
      "    end;\n",
      "    return sum;\n",
      "end "
     ],
     "language": "python",
     "metadata": {},
     "outputs": [
      {
       "metadata": {},
       "output_type": "pyout",
       "prompt_number": 39,
       "text": [
        "log_likelihood (generic function with 1 method)"
       ]
      }
     ],
     "prompt_number": 39
    },
    {
     "cell_type": "code",
     "collapsed": false,
     "input": [
      "srand(42);\n",
      "N = 100;\n",
      "z = zeros(N);\n",
      "sigma = 2.*ones(N);\n",
      "y = z+sigma.*randn(N);\n",
      "\n",
      "log_likelihood(y,sigma,z)"
     ],
     "language": "python",
     "metadata": {},
     "outputs": [
      {
       "metadata": {},
       "output_type": "pyout",
       "prompt_number": 40,
       "text": [
        "-11.136697415228658"
       ]
      }
     ],
     "prompt_number": 40
    },
    {
     "cell_type": "code",
     "collapsed": false,
     "input": [
      "srand(42);\n",
      "N = 600;\n",
      "z = zeros(N);\n",
      "sigma = 2.*ones(N);\n",
      "y = z+sigma.*randn(N);\n",
      "\n",
      "log_likelihood(y,sigma,z)"
     ],
     "language": "python",
     "metadata": {},
     "outputs": [
      {
       "metadata": {},
       "output_type": "pyout",
       "prompt_number": 41,
       "text": [
        "-64.85637235369049"
       ]
      }
     ],
     "prompt_number": 41
    },
    {
     "cell_type": "markdown",
     "metadata": {},
     "source": [
      "#Problem 5"
     ]
    },
    {
     "cell_type": "code",
     "collapsed": false,
     "input": [
      "function round_down_to_power_of_ten(x::Real)\n",
      "   z = 1.0;\n",
      "   if x >= 1.0;\n",
      "      while z*10.<=x\n",
      "         z = z * 10.0;\n",
      "      end;\n",
      "   else\n",
      "      while z >= x\n",
      "         z = z / 10.0;\n",
      "      end;\n",
      "   end;\n",
      "   return z;\n",
      "end\f"
     ],
     "language": "python",
     "metadata": {},
     "outputs": [],
     "prompt_number": "*"
    },
    {
     "cell_type": "code",
     "collapsed": false,
     "input": [
      "round_down_to_power_of_ten(x::Real) = 10.0^floor(log10(x))"
     ],
     "language": "python",
     "metadata": {},
     "outputs": [],
     "prompt_number": "*"
    },
    {
     "cell_type": "code",
     "collapsed": false,
     "input": [],
     "language": "python",
     "metadata": {},
     "outputs": [],
     "prompt_number": "*"
    },
    {
     "cell_type": "code",
     "collapsed": false,
     "input": [],
     "language": "python",
     "metadata": {},
     "outputs": []
    }
   ],
   "metadata": {}
  }
 ]
}